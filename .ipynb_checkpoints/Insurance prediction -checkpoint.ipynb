{
 "cells": [
  {
   "cell_type": "code",
   "execution_count": 1,
   "id": "alive-proposal",
   "metadata": {},
   "outputs": [],
   "source": [
    "import numpy as np\n",
    "import pandas as pd\n",
    "\n",
    "import matplotlib.pyplot as plt\n",
    "import seaborn as sn"
   ]
  },
  {
   "cell_type": "code",
   "execution_count": 2,
   "id": "pacific-municipality",
   "metadata": {},
   "outputs": [],
   "source": [
    "train1 = pd.read_csv('Insurance_train.csv')\n",
    "test1 = pd.read_csv('Insurance_test.csv')"
   ]
  },
  {
   "cell_type": "code",
   "execution_count": 3,
   "id": "considered-morning",
   "metadata": {},
   "outputs": [
    {
     "data": {
      "text/html": [
       "<div>\n",
       "<style scoped>\n",
       "    .dataframe tbody tr th:only-of-type {\n",
       "        vertical-align: middle;\n",
       "    }\n",
       "\n",
       "    .dataframe tbody tr th {\n",
       "        vertical-align: top;\n",
       "    }\n",
       "\n",
       "    .dataframe thead th {\n",
       "        text-align: right;\n",
       "    }\n",
       "</style>\n",
       "<table border=\"1\" class=\"dataframe\">\n",
       "  <thead>\n",
       "    <tr style=\"text-align: right;\">\n",
       "      <th></th>\n",
       "      <th>id</th>\n",
       "      <th>perc_premium_paid_by_cash_credit</th>\n",
       "      <th>age_in_days</th>\n",
       "      <th>Income</th>\n",
       "      <th>Count_3-6_months_late</th>\n",
       "      <th>Count_6-12_months_late</th>\n",
       "      <th>Count_more_than_12_months_late</th>\n",
       "      <th>application_underwriting_score</th>\n",
       "      <th>no_of_premiums_paid</th>\n",
       "      <th>sourcing_channel</th>\n",
       "      <th>residence_area_type</th>\n",
       "      <th>premium</th>\n",
       "      <th>target</th>\n",
       "    </tr>\n",
       "  </thead>\n",
       "  <tbody>\n",
       "    <tr>\n",
       "      <th>0</th>\n",
       "      <td>110936</td>\n",
       "      <td>0.429</td>\n",
       "      <td>12058</td>\n",
       "      <td>355060</td>\n",
       "      <td>0.0</td>\n",
       "      <td>0.0</td>\n",
       "      <td>0.0</td>\n",
       "      <td>99.02</td>\n",
       "      <td>13</td>\n",
       "      <td>C</td>\n",
       "      <td>Urban</td>\n",
       "      <td>3300</td>\n",
       "      <td>1</td>\n",
       "    </tr>\n",
       "    <tr>\n",
       "      <th>1</th>\n",
       "      <td>41492</td>\n",
       "      <td>0.010</td>\n",
       "      <td>21546</td>\n",
       "      <td>315150</td>\n",
       "      <td>0.0</td>\n",
       "      <td>0.0</td>\n",
       "      <td>0.0</td>\n",
       "      <td>99.89</td>\n",
       "      <td>21</td>\n",
       "      <td>A</td>\n",
       "      <td>Urban</td>\n",
       "      <td>18000</td>\n",
       "      <td>1</td>\n",
       "    </tr>\n",
       "    <tr>\n",
       "      <th>2</th>\n",
       "      <td>31300</td>\n",
       "      <td>0.917</td>\n",
       "      <td>17531</td>\n",
       "      <td>84140</td>\n",
       "      <td>2.0</td>\n",
       "      <td>3.0</td>\n",
       "      <td>1.0</td>\n",
       "      <td>98.69</td>\n",
       "      <td>7</td>\n",
       "      <td>C</td>\n",
       "      <td>Rural</td>\n",
       "      <td>3300</td>\n",
       "      <td>0</td>\n",
       "    </tr>\n",
       "    <tr>\n",
       "      <th>3</th>\n",
       "      <td>19415</td>\n",
       "      <td>0.049</td>\n",
       "      <td>15341</td>\n",
       "      <td>250510</td>\n",
       "      <td>0.0</td>\n",
       "      <td>0.0</td>\n",
       "      <td>0.0</td>\n",
       "      <td>99.57</td>\n",
       "      <td>9</td>\n",
       "      <td>A</td>\n",
       "      <td>Urban</td>\n",
       "      <td>9600</td>\n",
       "      <td>1</td>\n",
       "    </tr>\n",
       "    <tr>\n",
       "      <th>4</th>\n",
       "      <td>99379</td>\n",
       "      <td>0.052</td>\n",
       "      <td>31400</td>\n",
       "      <td>198680</td>\n",
       "      <td>0.0</td>\n",
       "      <td>0.0</td>\n",
       "      <td>0.0</td>\n",
       "      <td>99.87</td>\n",
       "      <td>12</td>\n",
       "      <td>B</td>\n",
       "      <td>Urban</td>\n",
       "      <td>9600</td>\n",
       "      <td>1</td>\n",
       "    </tr>\n",
       "    <tr>\n",
       "      <th>...</th>\n",
       "      <td>...</td>\n",
       "      <td>...</td>\n",
       "      <td>...</td>\n",
       "      <td>...</td>\n",
       "      <td>...</td>\n",
       "      <td>...</td>\n",
       "      <td>...</td>\n",
       "      <td>...</td>\n",
       "      <td>...</td>\n",
       "      <td>...</td>\n",
       "      <td>...</td>\n",
       "      <td>...</td>\n",
       "      <td>...</td>\n",
       "    </tr>\n",
       "    <tr>\n",
       "      <th>79848</th>\n",
       "      <td>48057</td>\n",
       "      <td>0.425</td>\n",
       "      <td>23367</td>\n",
       "      <td>224550</td>\n",
       "      <td>1.0</td>\n",
       "      <td>0.0</td>\n",
       "      <td>0.0</td>\n",
       "      <td>98.70</td>\n",
       "      <td>19</td>\n",
       "      <td>B</td>\n",
       "      <td>Urban</td>\n",
       "      <td>13800</td>\n",
       "      <td>1</td>\n",
       "    </tr>\n",
       "    <tr>\n",
       "      <th>79849</th>\n",
       "      <td>59012</td>\n",
       "      <td>0.704</td>\n",
       "      <td>19356</td>\n",
       "      <td>279150</td>\n",
       "      <td>1.0</td>\n",
       "      <td>0.0</td>\n",
       "      <td>1.0</td>\n",
       "      <td>99.42</td>\n",
       "      <td>12</td>\n",
       "      <td>A</td>\n",
       "      <td>Rural</td>\n",
       "      <td>28500</td>\n",
       "      <td>1</td>\n",
       "    </tr>\n",
       "    <tr>\n",
       "      <th>79850</th>\n",
       "      <td>77050</td>\n",
       "      <td>0.000</td>\n",
       "      <td>23372</td>\n",
       "      <td>305020</td>\n",
       "      <td>0.0</td>\n",
       "      <td>0.0</td>\n",
       "      <td>0.0</td>\n",
       "      <td>98.89</td>\n",
       "      <td>12</td>\n",
       "      <td>A</td>\n",
       "      <td>Rural</td>\n",
       "      <td>9600</td>\n",
       "      <td>1</td>\n",
       "    </tr>\n",
       "    <tr>\n",
       "      <th>79851</th>\n",
       "      <td>67225</td>\n",
       "      <td>0.398</td>\n",
       "      <td>22641</td>\n",
       "      <td>39330</td>\n",
       "      <td>0.0</td>\n",
       "      <td>0.0</td>\n",
       "      <td>0.0</td>\n",
       "      <td>98.68</td>\n",
       "      <td>8</td>\n",
       "      <td>A</td>\n",
       "      <td>Rural</td>\n",
       "      <td>5700</td>\n",
       "      <td>1</td>\n",
       "    </tr>\n",
       "    <tr>\n",
       "      <th>79852</th>\n",
       "      <td>71531</td>\n",
       "      <td>0.550</td>\n",
       "      <td>15709</td>\n",
       "      <td>280140</td>\n",
       "      <td>1.0</td>\n",
       "      <td>0.0</td>\n",
       "      <td>1.0</td>\n",
       "      <td>99.84</td>\n",
       "      <td>8</td>\n",
       "      <td>A</td>\n",
       "      <td>Urban</td>\n",
       "      <td>9600</td>\n",
       "      <td>0</td>\n",
       "    </tr>\n",
       "  </tbody>\n",
       "</table>\n",
       "<p>79853 rows × 13 columns</p>\n",
       "</div>"
      ],
      "text/plain": [
       "           id  perc_premium_paid_by_cash_credit  age_in_days  Income  \\\n",
       "0      110936                             0.429        12058  355060   \n",
       "1       41492                             0.010        21546  315150   \n",
       "2       31300                             0.917        17531   84140   \n",
       "3       19415                             0.049        15341  250510   \n",
       "4       99379                             0.052        31400  198680   \n",
       "...       ...                               ...          ...     ...   \n",
       "79848   48057                             0.425        23367  224550   \n",
       "79849   59012                             0.704        19356  279150   \n",
       "79850   77050                             0.000        23372  305020   \n",
       "79851   67225                             0.398        22641   39330   \n",
       "79852   71531                             0.550        15709  280140   \n",
       "\n",
       "       Count_3-6_months_late  Count_6-12_months_late  \\\n",
       "0                        0.0                     0.0   \n",
       "1                        0.0                     0.0   \n",
       "2                        2.0                     3.0   \n",
       "3                        0.0                     0.0   \n",
       "4                        0.0                     0.0   \n",
       "...                      ...                     ...   \n",
       "79848                    1.0                     0.0   \n",
       "79849                    1.0                     0.0   \n",
       "79850                    0.0                     0.0   \n",
       "79851                    0.0                     0.0   \n",
       "79852                    1.0                     0.0   \n",
       "\n",
       "       Count_more_than_12_months_late  application_underwriting_score  \\\n",
       "0                                 0.0                           99.02   \n",
       "1                                 0.0                           99.89   \n",
       "2                                 1.0                           98.69   \n",
       "3                                 0.0                           99.57   \n",
       "4                                 0.0                           99.87   \n",
       "...                               ...                             ...   \n",
       "79848                             0.0                           98.70   \n",
       "79849                             1.0                           99.42   \n",
       "79850                             0.0                           98.89   \n",
       "79851                             0.0                           98.68   \n",
       "79852                             1.0                           99.84   \n",
       "\n",
       "       no_of_premiums_paid sourcing_channel residence_area_type  premium  \\\n",
       "0                       13                C               Urban     3300   \n",
       "1                       21                A               Urban    18000   \n",
       "2                        7                C               Rural     3300   \n",
       "3                        9                A               Urban     9600   \n",
       "4                       12                B               Urban     9600   \n",
       "...                    ...              ...                 ...      ...   \n",
       "79848                   19                B               Urban    13800   \n",
       "79849                   12                A               Rural    28500   \n",
       "79850                   12                A               Rural     9600   \n",
       "79851                    8                A               Rural     5700   \n",
       "79852                    8                A               Urban     9600   \n",
       "\n",
       "       target  \n",
       "0           1  \n",
       "1           1  \n",
       "2           0  \n",
       "3           1  \n",
       "4           1  \n",
       "...       ...  \n",
       "79848       1  \n",
       "79849       1  \n",
       "79850       1  \n",
       "79851       1  \n",
       "79852       0  \n",
       "\n",
       "[79853 rows x 13 columns]"
      ]
     },
     "execution_count": 3,
     "metadata": {},
     "output_type": "execute_result"
    }
   ],
   "source": [
    "train1"
   ]
  },
  {
   "cell_type": "code",
   "execution_count": 30,
   "id": "satisfied-tuner",
   "metadata": {},
   "outputs": [
    {
     "data": {
      "text/html": [
       "<div>\n",
       "<style scoped>\n",
       "    .dataframe tbody tr th:only-of-type {\n",
       "        vertical-align: middle;\n",
       "    }\n",
       "\n",
       "    .dataframe tbody tr th {\n",
       "        vertical-align: top;\n",
       "    }\n",
       "\n",
       "    .dataframe thead th {\n",
       "        text-align: right;\n",
       "    }\n",
       "</style>\n",
       "<table border=\"1\" class=\"dataframe\">\n",
       "  <thead>\n",
       "    <tr style=\"text-align: right;\">\n",
       "      <th></th>\n",
       "      <th>id</th>\n",
       "      <th>Income</th>\n",
       "      <th>age_in_days</th>\n",
       "    </tr>\n",
       "  </thead>\n",
       "  <tbody>\n",
       "    <tr>\n",
       "      <th>1</th>\n",
       "      <td>41492</td>\n",
       "      <td>315150</td>\n",
       "      <td>21546</td>\n",
       "    </tr>\n",
       "    <tr>\n",
       "      <th>2</th>\n",
       "      <td>31300</td>\n",
       "      <td>84140</td>\n",
       "      <td>17531</td>\n",
       "    </tr>\n",
       "    <tr>\n",
       "      <th>3</th>\n",
       "      <td>19415</td>\n",
       "      <td>250510</td>\n",
       "      <td>15341</td>\n",
       "    </tr>\n",
       "    <tr>\n",
       "      <th>4</th>\n",
       "      <td>99379</td>\n",
       "      <td>198680</td>\n",
       "      <td>31400</td>\n",
       "    </tr>\n",
       "    <tr>\n",
       "      <th>5</th>\n",
       "      <td>59951</td>\n",
       "      <td>282080</td>\n",
       "      <td>17527</td>\n",
       "    </tr>\n",
       "    <tr>\n",
       "      <th>6</th>\n",
       "      <td>54031</td>\n",
       "      <td>118400</td>\n",
       "      <td>24829</td>\n",
       "    </tr>\n",
       "    <tr>\n",
       "      <th>7</th>\n",
       "      <td>94290</td>\n",
       "      <td>180240</td>\n",
       "      <td>21911</td>\n",
       "    </tr>\n",
       "    <tr>\n",
       "      <th>8</th>\n",
       "      <td>93730</td>\n",
       "      <td>92520</td>\n",
       "      <td>9868</td>\n",
       "    </tr>\n",
       "    <tr>\n",
       "      <th>9</th>\n",
       "      <td>84844</td>\n",
       "      <td>107180</td>\n",
       "      <td>23008</td>\n",
       "    </tr>\n",
       "    <tr>\n",
       "      <th>10</th>\n",
       "      <td>87400</td>\n",
       "      <td>200100</td>\n",
       "      <td>17529</td>\n",
       "    </tr>\n",
       "    <tr>\n",
       "      <th>11</th>\n",
       "      <td>51808</td>\n",
       "      <td>122060</td>\n",
       "      <td>16075</td>\n",
       "    </tr>\n",
       "    <tr>\n",
       "      <th>12</th>\n",
       "      <td>104167</td>\n",
       "      <td>27290</td>\n",
       "      <td>16436</td>\n",
       "    </tr>\n",
       "    <tr>\n",
       "      <th>13</th>\n",
       "      <td>52420</td>\n",
       "      <td>136000</td>\n",
       "      <td>19723</td>\n",
       "    </tr>\n",
       "    <tr>\n",
       "      <th>14</th>\n",
       "      <td>42421</td>\n",
       "      <td>114110</td>\n",
       "      <td>16430</td>\n",
       "    </tr>\n",
       "    <tr>\n",
       "      <th>15</th>\n",
       "      <td>91820</td>\n",
       "      <td>90140</td>\n",
       "      <td>12788</td>\n",
       "    </tr>\n",
       "    <tr>\n",
       "      <th>16</th>\n",
       "      <td>64685</td>\n",
       "      <td>410310</td>\n",
       "      <td>23010</td>\n",
       "    </tr>\n",
       "    <tr>\n",
       "      <th>17</th>\n",
       "      <td>60263</td>\n",
       "      <td>315110</td>\n",
       "      <td>22639</td>\n",
       "    </tr>\n",
       "    <tr>\n",
       "      <th>18</th>\n",
       "      <td>68260</td>\n",
       "      <td>87530</td>\n",
       "      <td>16433</td>\n",
       "    </tr>\n",
       "    <tr>\n",
       "      <th>19</th>\n",
       "      <td>4043</td>\n",
       "      <td>152610</td>\n",
       "      <td>11687</td>\n",
       "    </tr>\n",
       "    <tr>\n",
       "      <th>20</th>\n",
       "      <td>100259</td>\n",
       "      <td>190090</td>\n",
       "      <td>17530</td>\n",
       "    </tr>\n",
       "    <tr>\n",
       "      <th>21</th>\n",
       "      <td>90347</td>\n",
       "      <td>364950</td>\n",
       "      <td>17895</td>\n",
       "    </tr>\n",
       "    <tr>\n",
       "      <th>22</th>\n",
       "      <td>92720</td>\n",
       "      <td>360110</td>\n",
       "      <td>24466</td>\n",
       "    </tr>\n",
       "    <tr>\n",
       "      <th>23</th>\n",
       "      <td>72071</td>\n",
       "      <td>225090</td>\n",
       "      <td>17161</td>\n",
       "    </tr>\n",
       "    <tr>\n",
       "      <th>24</th>\n",
       "      <td>19900</td>\n",
       "      <td>240040</td>\n",
       "      <td>16430</td>\n",
       "    </tr>\n",
       "    <tr>\n",
       "      <th>25</th>\n",
       "      <td>111305</td>\n",
       "      <td>315070</td>\n",
       "      <td>32495</td>\n",
       "    </tr>\n",
       "    <tr>\n",
       "      <th>26</th>\n",
       "      <td>27507</td>\n",
       "      <td>24690</td>\n",
       "      <td>8406</td>\n",
       "    </tr>\n",
       "    <tr>\n",
       "      <th>27</th>\n",
       "      <td>53784</td>\n",
       "      <td>236820</td>\n",
       "      <td>15342</td>\n",
       "    </tr>\n",
       "    <tr>\n",
       "      <th>28</th>\n",
       "      <td>102354</td>\n",
       "      <td>395050</td>\n",
       "      <td>22273</td>\n",
       "    </tr>\n",
       "    <tr>\n",
       "      <th>29</th>\n",
       "      <td>108046</td>\n",
       "      <td>82540</td>\n",
       "      <td>21179</td>\n",
       "    </tr>\n",
       "    <tr>\n",
       "      <th>30</th>\n",
       "      <td>23345</td>\n",
       "      <td>200050</td>\n",
       "      <td>17895</td>\n",
       "    </tr>\n",
       "    <tr>\n",
       "      <th>31</th>\n",
       "      <td>78919</td>\n",
       "      <td>128640</td>\n",
       "      <td>15345</td>\n",
       "    </tr>\n",
       "    <tr>\n",
       "      <th>32</th>\n",
       "      <td>96413</td>\n",
       "      <td>150080</td>\n",
       "      <td>13513</td>\n",
       "    </tr>\n",
       "  </tbody>\n",
       "</table>\n",
       "</div>"
      ],
      "text/plain": [
       "        id  Income  age_in_days\n",
       "1    41492  315150        21546\n",
       "2    31300   84140        17531\n",
       "3    19415  250510        15341\n",
       "4    99379  198680        31400\n",
       "5    59951  282080        17527\n",
       "6    54031  118400        24829\n",
       "7    94290  180240        21911\n",
       "8    93730   92520         9868\n",
       "9    84844  107180        23008\n",
       "10   87400  200100        17529\n",
       "11   51808  122060        16075\n",
       "12  104167   27290        16436\n",
       "13   52420  136000        19723\n",
       "14   42421  114110        16430\n",
       "15   91820   90140        12788\n",
       "16   64685  410310        23010\n",
       "17   60263  315110        22639\n",
       "18   68260   87530        16433\n",
       "19    4043  152610        11687\n",
       "20  100259  190090        17530\n",
       "21   90347  364950        17895\n",
       "22   92720  360110        24466\n",
       "23   72071  225090        17161\n",
       "24   19900  240040        16430\n",
       "25  111305  315070        32495\n",
       "26   27507   24690         8406\n",
       "27   53784  236820        15342\n",
       "28  102354  395050        22273\n",
       "29  108046   82540        21179\n",
       "30   23345  200050        17895\n",
       "31   78919  128640        15345\n",
       "32   96413  150080        13513"
      ]
     },
     "execution_count": 30,
     "metadata": {},
     "output_type": "execute_result"
    }
   ],
   "source": [
    "s=train1[1:33]\n",
    "s1=s[['id','Income','age_in_days']]\n",
    "s1"
   ]
  },
  {
   "cell_type": "code",
   "execution_count": 41,
   "id": "accurate-surname",
   "metadata": {},
   "outputs": [
    {
     "data": {
      "text/plain": [
       "[21546,\n",
       " 17531,\n",
       " 15341,\n",
       " 31400,\n",
       " 17527,\n",
       " 24829,\n",
       " 21911,\n",
       " 9868,\n",
       " 23008,\n",
       " 17529,\n",
       " 16075,\n",
       " 16436,\n",
       " 19723,\n",
       " 16430,\n",
       " 12788,\n",
       " 23010,\n",
       " 22639,\n",
       " 16433,\n",
       " 11687,\n",
       " 17530,\n",
       " 17895,\n",
       " 24466,\n",
       " 17161,\n",
       " 16430,\n",
       " 32495,\n",
       " 8406,\n",
       " 15342,\n",
       " 22273,\n",
       " 21179,\n",
       " 17895,\n",
       " 15345,\n",
       " 13513]"
      ]
     },
     "execution_count": 41,
     "metadata": {},
     "output_type": "execute_result"
    }
   ],
   "source": [
    "po=list(s1['age_in_days'])\n",
    "po"
   ]
  },
  {
   "cell_type": "code",
   "execution_count": 5,
   "id": "enabling-accounting",
   "metadata": {},
   "outputs": [
    {
     "data": {
      "text/plain": [
       "[[41492,\n",
       "  31300,\n",
       "  19415,\n",
       "  99379,\n",
       "  59951,\n",
       "  54031,\n",
       "  94290,\n",
       "  93730,\n",
       "  84844,\n",
       "  87400,\n",
       "  51808,\n",
       "  104167,\n",
       "  52420,\n",
       "  42421,\n",
       "  91820,\n",
       "  64685,\n",
       "  60263,\n",
       "  68260,\n",
       "  4043,\n",
       "  100259,\n",
       "  90347,\n",
       "  92720,\n",
       "  72071,\n",
       "  19900,\n",
       "  111305,\n",
       "  27507,\n",
       "  53784,\n",
       "  102354,\n",
       "  108046,\n",
       "  23345,\n",
       "  78919,\n",
       "  96413],\n",
       " [315150,\n",
       "  84140,\n",
       "  250510,\n",
       "  198680,\n",
       "  282080,\n",
       "  118400,\n",
       "  180240,\n",
       "  92520,\n",
       "  107180,\n",
       "  200100,\n",
       "  122060,\n",
       "  27290,\n",
       "  136000,\n",
       "  114110,\n",
       "  90140,\n",
       "  410310,\n",
       "  315110,\n",
       "  87530,\n",
       "  152610,\n",
       "  190090,\n",
       "  364950,\n",
       "  360110,\n",
       "  225090,\n",
       "  240040,\n",
       "  315070,\n",
       "  24690,\n",
       "  236820,\n",
       "  395050,\n",
       "  82540,\n",
       "  200050,\n",
       "  128640,\n",
       "  150080],\n",
       " [21546,\n",
       "  17531,\n",
       "  15341,\n",
       "  31400,\n",
       "  17527,\n",
       "  24829,\n",
       "  21911,\n",
       "  9868,\n",
       "  23008,\n",
       "  17529,\n",
       "  16075,\n",
       "  16436,\n",
       "  19723,\n",
       "  16430,\n",
       "  12788,\n",
       "  23010,\n",
       "  22639,\n",
       "  16433,\n",
       "  11687,\n",
       "  17530,\n",
       "  17895,\n",
       "  24466,\n",
       "  17161,\n",
       "  16430,\n",
       "  32495,\n",
       "  8406,\n",
       "  15342,\n",
       "  22273,\n",
       "  21179,\n",
       "  17895,\n",
       "  15345,\n",
       "  13513]]"
      ]
     },
     "execution_count": 5,
     "metadata": {},
     "output_type": "execute_result"
    }
   ],
   "source": [
    "l=[list(s1['id']),list(s1['Income']),list(s1['age_in_days'])]\n",
    "l"
   ]
  },
  {
   "cell_type": "code",
   "execution_count": 6,
   "id": "tired-humidity",
   "metadata": {},
   "outputs": [],
   "source": [
    "l=[[3,4,5],[4,5,6]]"
   ]
  },
  {
   "cell_type": "code",
   "execution_count": 37,
   "id": "textile-decimal",
   "metadata": {},
   "outputs": [],
   "source": [
    "l=[]\n",
    "for i in  s1['id']:\n",
    "    l.append([i])"
   ]
  },
  {
   "cell_type": "code",
   "execution_count": 38,
   "id": "phantom-dover",
   "metadata": {},
   "outputs": [
    {
     "data": {
      "text/plain": [
       "[[41492],\n",
       " [31300],\n",
       " [19415],\n",
       " [99379],\n",
       " [59951],\n",
       " [54031],\n",
       " [94290],\n",
       " [93730],\n",
       " [84844],\n",
       " [87400],\n",
       " [51808],\n",
       " [104167],\n",
       " [52420],\n",
       " [42421],\n",
       " [91820],\n",
       " [64685],\n",
       " [60263],\n",
       " [68260],\n",
       " [4043],\n",
       " [100259],\n",
       " [90347],\n",
       " [92720],\n",
       " [72071],\n",
       " [19900],\n",
       " [111305],\n",
       " [27507],\n",
       " [53784],\n",
       " [102354],\n",
       " [108046],\n",
       " [23345],\n",
       " [78919],\n",
       " [96413]]"
      ]
     },
     "execution_count": 38,
     "metadata": {},
     "output_type": "execute_result"
    }
   ],
   "source": [
    "l"
   ]
  },
  {
   "cell_type": "code",
   "execution_count": 39,
   "id": "tutorial-calvin",
   "metadata": {},
   "outputs": [
    {
     "data": {
      "text/plain": [
       "[21546,\n",
       " 17531,\n",
       " 15341,\n",
       " 31400,\n",
       " 17527,\n",
       " 24829,\n",
       " 21911,\n",
       " 9868,\n",
       " 23008,\n",
       " 17529,\n",
       " 16075,\n",
       " 16436,\n",
       " 19723,\n",
       " 16430,\n",
       " 12788,\n",
       " 23010,\n",
       " 22639,\n",
       " 16433,\n",
       " 11687,\n",
       " 17530,\n",
       " 17895,\n",
       " 24466,\n",
       " 17161,\n",
       " 16430,\n",
       " 32495,\n",
       " 8406,\n",
       " 15342,\n",
       " 22273,\n",
       " 21179,\n",
       " 17895,\n",
       " 15345,\n",
       " 13513]"
      ]
     },
     "execution_count": 39,
     "metadata": {},
     "output_type": "execute_result"
    }
   ],
   "source": [
    "g=list(s1['age_in_days'])\n",
    "g"
   ]
  },
  {
   "cell_type": "code",
   "execution_count": 42,
   "id": "proper-station",
   "metadata": {},
   "outputs": [
    {
     "name": "stdout",
     "output_type": "stream",
     "text": [
      "[41492, 21546, 21546]\n",
      "[31300, 17531, 17531]\n",
      "[19415, 15341, 15341]\n",
      "[99379, 31400, 31400]\n",
      "[59951, 17527, 17527]\n",
      "[54031, 24829, 24829]\n",
      "[94290, 21911, 21911]\n",
      "[93730, 9868, 9868]\n",
      "[84844, 23008, 23008]\n",
      "[87400, 17529, 17529]\n",
      "[51808, 16075, 16075]\n",
      "[104167, 16436, 16436]\n",
      "[52420, 19723, 19723]\n",
      "[42421, 16430, 16430]\n",
      "[91820, 12788, 12788]\n",
      "[64685, 23010, 23010]\n",
      "[60263, 22639, 22639]\n",
      "[68260, 16433, 16433]\n",
      "[4043, 11687, 11687]\n",
      "[100259, 17530, 17530]\n",
      "[90347, 17895, 17895]\n",
      "[92720, 24466, 24466]\n",
      "[72071, 17161, 17161]\n",
      "[19900, 16430, 16430]\n",
      "[111305, 32495, 32495]\n",
      "[27507, 8406, 8406]\n",
      "[53784, 15342, 15342]\n",
      "[102354, 22273, 22273]\n",
      "[108046, 21179, 21179]\n",
      "[23345, 17895, 17895]\n",
      "[78919, 15345, 15345]\n",
      "[96413, 13513, 13513]\n"
     ]
    }
   ],
   "source": [
    "for i in range(len(l)):\n",
    "    l[i]=l[i]+[po[i]]\n",
    "    print(l[i])"
   ]
  },
  {
   "cell_type": "code",
   "execution_count": 46,
   "id": "international-usage",
   "metadata": {},
   "outputs": [
    {
     "name": "stdout",
     "output_type": "stream",
     "text": [
      "41492 21546 21546\n",
      "31300 17531 17531\n",
      "19415 15341 15341\n",
      "99379 31400 31400\n",
      "59951 17527 17527\n",
      "54031 24829 24829\n",
      "94290 21911 21911\n",
      "93730 9868 9868\n",
      "84844 23008 23008\n",
      "87400 17529 17529\n",
      "51808 16075 16075\n",
      "104167 16436 16436\n",
      "52420 19723 19723\n",
      "42421 16430 16430\n",
      "91820 12788 12788\n",
      "64685 23010 23010\n",
      "60263 22639 22639\n",
      "68260 16433 16433\n",
      "4043 11687 11687\n",
      "100259 17530 17530\n",
      "90347 17895 17895\n",
      "92720 24466 24466\n",
      "72071 17161 17161\n",
      "19900 16430 16430\n",
      "111305 32495 32495\n",
      "27507 8406 8406\n",
      "53784 15342 15342\n",
      "102354 22273 22273\n",
      "108046 21179 21179\n",
      "23345 17895 17895\n",
      "78919 15345 15345\n",
      "96413 13513 13513\n"
     ]
    }
   ],
   "source": [
    "for i in l:\n",
    "    print(i[0],i[1],i[2])"
   ]
  },
  {
   "cell_type": "code",
   "execution_count": null,
   "id": "found-region",
   "metadata": {},
   "outputs": [],
   "source": [
    "s={'sd':[3,4,5],'sr':[4.5,6,7]}"
   ]
  },
  {
   "cell_type": "code",
   "execution_count": null,
   "id": "daily-birth",
   "metadata": {},
   "outputs": [],
   "source": [
    "for i in s:\n",
    "    print(s['sd'])"
   ]
  },
  {
   "cell_type": "code",
   "execution_count": 8,
   "id": "lucky-multiple",
   "metadata": {},
   "outputs": [
    {
     "ename": "SyntaxError",
     "evalue": "expression cannot contain assignment, perhaps you meant \"==\"? (<ipython-input-8-58b2f8847d43>, line 3)",
     "output_type": "error",
     "traceback": [
      "\u001b[1;36m  File \u001b[1;32m\"<ipython-input-8-58b2f8847d43>\"\u001b[1;36m, line \u001b[1;32m3\u001b[0m\n\u001b[1;33m    print(s1.at[indices,column] = row[column])\u001b[0m\n\u001b[1;37m          ^\u001b[0m\n\u001b[1;31mSyntaxError\u001b[0m\u001b[1;31m:\u001b[0m expression cannot contain assignment, perhaps you meant \"==\"?\n"
     ]
    }
   ],
   "source": [
    "for indices, row in s1.iterrows():\n",
    "    for column in s1.columns:\n",
    "        s1.at[indices,column] = row[column]"
   ]
  },
  {
   "cell_type": "code",
   "execution_count": null,
   "id": "polished-refund",
   "metadata": {},
   "outputs": [],
   "source": [
    "for i in range(len(s['age_in_days'])):\n",
    "    print(s[])"
   ]
  },
  {
   "cell_type": "code",
   "execution_count": null,
   "id": "adaptive-inquiry",
   "metadata": {},
   "outputs": [],
   "source": [
    "for i in range(len(s['age_in_days'])):\n",
    "    l[i].append(k[i])"
   ]
  },
  {
   "cell_type": "code",
   "execution_count": 26,
   "id": "finished-minister",
   "metadata": {},
   "outputs": [],
   "source": [
    "l=[2,3,4,5]\n",
    "l2=[3,4,5,6]"
   ]
  },
  {
   "cell_type": "code",
   "execution_count": 27,
   "id": "overall-chile",
   "metadata": {},
   "outputs": [],
   "source": [
    "k=[]\n",
    "for i in l:\n",
    "    k.append([i])"
   ]
  },
  {
   "cell_type": "code",
   "execution_count": 28,
   "id": "veterinary-complaint",
   "metadata": {},
   "outputs": [
    {
     "name": "stdout",
     "output_type": "stream",
     "text": [
      "[2, 3]\n",
      "[3, 4]\n",
      "[4, 5]\n",
      "[5, 6]\n"
     ]
    }
   ],
   "source": [
    "for i in range(len(k)):\n",
    "    k[i]=k[i]+[l2[i]]\n",
    "    print(k[i])"
   ]
  },
  {
   "cell_type": "code",
   "execution_count": 24,
   "id": "compliant-society",
   "metadata": {},
   "outputs": [],
   "source": [
    "k[3]=k[3]+[8]"
   ]
  },
  {
   "cell_type": "code",
   "execution_count": 29,
   "id": "italic-absorption",
   "metadata": {},
   "outputs": [
    {
     "data": {
      "text/plain": [
       "[[2, 3], [3, 4], [4, 5], [5, 6]]"
      ]
     },
     "execution_count": 29,
     "metadata": {},
     "output_type": "execute_result"
    }
   ],
   "source": [
    "k"
   ]
  },
  {
   "cell_type": "code",
   "execution_count": null,
   "id": "certain-keyboard",
   "metadata": {},
   "outputs": [],
   "source": [
    "print(\"name\",'Income','age')\n",
    "for i in l:\n",
    "    print(i[0],i[1],i[2])"
   ]
  },
  {
   "cell_type": "code",
   "execution_count": null,
   "id": "mobile-saturday",
   "metadata": {},
   "outputs": [],
   "source": [
    "for"
   ]
  },
  {
   "cell_type": "code",
   "execution_count": null,
   "id": "optimum-portrait",
   "metadata": {},
   "outputs": [],
   "source": []
  },
  {
   "cell_type": "code",
   "execution_count": null,
   "id": "painful-thinking",
   "metadata": {},
   "outputs": [],
   "source": [
    "for i in train1['id']:\n",
    "    print(i)"
   ]
  },
  {
   "cell_type": "code",
   "execution_count": null,
   "id": "covered-notion",
   "metadata": {},
   "outputs": [],
   "source": [
    "train1.columns"
   ]
  },
  {
   "cell_type": "code",
   "execution_count": null,
   "id": "formal-series",
   "metadata": {},
   "outputs": [],
   "source": [
    "test1.head()"
   ]
  },
  {
   "cell_type": "code",
   "execution_count": null,
   "id": "understanding-japanese",
   "metadata": {},
   "outputs": [],
   "source": [
    "train1.describe()"
   ]
  },
  {
   "cell_type": "code",
   "execution_count": null,
   "id": "english-crack",
   "metadata": {},
   "outputs": [],
   "source": [
    "test1.describe()"
   ]
  },
  {
   "cell_type": "code",
   "execution_count": null,
   "id": "excellent-battle",
   "metadata": {},
   "outputs": [],
   "source": [
    "test1.shape[0]/(train1.shape[0]+test1.shape[0])"
   ]
  },
  {
   "cell_type": "code",
   "execution_count": null,
   "id": "filled-houston",
   "metadata": {},
   "outputs": [],
   "source": [
    "train1.shape[0]/(train1.shape[0]+test1.shape[0])"
   ]
  },
  {
   "cell_type": "code",
   "execution_count": null,
   "id": "younger-myanmar",
   "metadata": {},
   "outputs": [],
   "source": [
    "train1.isnull().sum()"
   ]
  },
  {
   "cell_type": "code",
   "execution_count": null,
   "id": "internal-genome",
   "metadata": {},
   "outputs": [],
   "source": [
    "test1.isnull().sum()"
   ]
  },
  {
   "cell_type": "code",
   "execution_count": null,
   "id": "civil-protest",
   "metadata": {},
   "outputs": [],
   "source": [
    "\n",
    "test=test1\n",
    "train=train1"
   ]
  },
  {
   "cell_type": "code",
   "execution_count": null,
   "id": "conservative-hearts",
   "metadata": {},
   "outputs": [],
   "source": []
  },
  {
   "cell_type": "code",
   "execution_count": null,
   "id": "hybrid-fantasy",
   "metadata": {},
   "outputs": [],
   "source": [
    "train.columns"
   ]
  },
  {
   "cell_type": "code",
   "execution_count": null,
   "id": "designed-turkish",
   "metadata": {},
   "outputs": [],
   "source": [
    "train['Count_6-12_months_late'].fillna(train['Count_6-12_months_late'].median(), inplace=True)\n",
    "train['Count_3-6_months_late'].fillna(train['Count_3-6_months_late'].median(), inplace=True)\n",
    "train['Count_more_than_12_months_late'].fillna(train['Count_more_than_12_months_late'].median(), inplace=True)\n",
    "train['application_underwriting_score'].fillna(train['application_underwriting_score'].median(), inplace=True)"
   ]
  },
  {
   "cell_type": "code",
   "execution_count": null,
   "id": "thick-chinese",
   "metadata": {},
   "outputs": [],
   "source": [
    "train.isnull().sum()"
   ]
  },
  {
   "cell_type": "code",
   "execution_count": null,
   "id": "acceptable-pathology",
   "metadata": {},
   "outputs": [],
   "source": [
    "train.describe()"
   ]
  },
  {
   "cell_type": "code",
   "execution_count": null,
   "id": "arabic-grill",
   "metadata": {},
   "outputs": [],
   "source": [
    "for i in range(len(train)):\n",
    "    print(train[i:i+1],end='\\n')"
   ]
  },
  {
   "cell_type": "code",
   "execution_count": null,
   "id": "killing-elite",
   "metadata": {},
   "outputs": [],
   "source": [
    "test['Count_6-12_months_late'].fillna(test['Count_6-12_months_late'].median(), inplace=True)\n",
    "test['Count_3-6_months_late'].fillna(test['Count_3-6_months_late'].median(), inplace=True)\n",
    "test['Count_more_than_12_months_late'].fillna(test['Count_more_than_12_months_late'].median(), inplace=True)\n",
    "test['application_underwriting_score'].fillna(test['application_underwriting_score'].median(), inplace=True)"
   ]
  },
  {
   "cell_type": "code",
   "execution_count": null,
   "id": "found-syndication",
   "metadata": {},
   "outputs": [],
   "source": [
    "test.isnull().sum()\n"
   ]
  },
  {
   "cell_type": "code",
   "execution_count": null,
   "id": "composite-attack",
   "metadata": {},
   "outputs": [],
   "source": [
    "# checking   the correlation between numerical variables\n",
    "corr = train.corr()\n",
    "mask = np.array(corr)\n",
    "mask[np.tril_indices_from(mask)] = False\n",
    "fig,ax= plt.subplots()\n",
    "fig.set_size_inches(20,10)\n",
    "sn.heatmap(corr, mask=mask, square=True,annot=True, cmap=\"YlGnBu\")"
   ]
  },
  {
   "cell_type": "code",
   "execution_count": null,
   "id": "accomplished-finland",
   "metadata": {},
   "outputs": [],
   "source": [
    "sn.distplot(train[\"target\"])\n",
    "#so we have 0 and 1 means paid or not\n"
   ]
  },
  {
   "cell_type": "code",
   "execution_count": null,
   "id": "molecular-zimbabwe",
   "metadata": {},
   "outputs": [],
   "source": [
    "sn.distplot(train[\"age_in_days\"])\n",
    "#it is showing me almost Gaussion distribution"
   ]
  },
  {
   "cell_type": "code",
   "execution_count": null,
   "id": "sweet-palace",
   "metadata": {},
   "outputs": [],
   "source": [
    "train_o=train.copy()\n",
    "test_o=test.copy()"
   ]
  },
  {
   "cell_type": "code",
   "execution_count": null,
   "id": "stylish-layer",
   "metadata": {},
   "outputs": [],
   "source": []
  },
  {
   "cell_type": "code",
   "execution_count": null,
   "id": "cordless-faculty",
   "metadata": {},
   "outputs": [],
   "source": [
    "train=train.drop(['id'],axis=1)\n",
    "test=test.drop(['id'],axis=1)"
   ]
  },
  {
   "cell_type": "code",
   "execution_count": null,
   "id": "latin-mount",
   "metadata": {},
   "outputs": [],
   "source": []
  },
  {
   "cell_type": "code",
   "execution_count": null,
   "id": "suitable-emission",
   "metadata": {},
   "outputs": [],
   "source": [
    "train = pd.get_dummies(train)\n",
    "\n",
    "test = pd.get_dummies(test)\n"
   ]
  },
  {
   "cell_type": "code",
   "execution_count": null,
   "id": "heavy-television",
   "metadata": {},
   "outputs": [],
   "source": [
    "from sklearn.linear_model import LogisticRegression\n",
    "from sklearn.model_selection import train_test_split"
   ]
  },
  {
   "cell_type": "code",
   "execution_count": null,
   "id": "further-finder",
   "metadata": {},
   "outputs": [],
   "source": [
    "test.columns"
   ]
  },
  {
   "cell_type": "code",
   "execution_count": null,
   "id": "stupid-bolivia",
   "metadata": {},
   "outputs": [],
   "source": [
    "x_train, x_val, y_train, y_val = train_test_split(train.drop(['target'],axis=1), train['target'], test_size=0.2)\n"
   ]
  },
  {
   "cell_type": "code",
   "execution_count": null,
   "id": "aggregate-institution",
   "metadata": {},
   "outputs": [],
   "source": [
    "len(y_val)"
   ]
  },
  {
   "cell_type": "code",
   "execution_count": null,
   "id": "dying-distribution",
   "metadata": {},
   "outputs": [],
   "source": [
    "c=x_train[:2]"
   ]
  },
  {
   "cell_type": "code",
   "execution_count": null,
   "id": "second-representation",
   "metadata": {},
   "outputs": [],
   "source": [
    "c"
   ]
  },
  {
   "cell_type": "code",
   "execution_count": null,
   "id": "compatible-court",
   "metadata": {},
   "outputs": [],
   "source": [
    "a=x_val.iloc[:][:]\n",
    "a"
   ]
  },
  {
   "cell_type": "code",
   "execution_count": null,
   "id": "relative-percentage",
   "metadata": {},
   "outputs": [],
   "source": [
    "a['predicted_value']=list(logreg.predict(x_val))\n",
    "a"
   ]
  },
  {
   "cell_type": "code",
   "execution_count": null,
   "id": "least-eating",
   "metadata": {},
   "outputs": [],
   "source": [
    "c=a['predicted_value']==0\n",
    "x=0\n",
    "for i in c:\n",
    "    if type(i)!=bool:\n",
    "        x=x+1\n",
    "        "
   ]
  },
  {
   "cell_type": "code",
   "execution_count": null,
   "id": "perceived-bangladesh",
   "metadata": {},
   "outputs": [],
   "source": [
    "x"
   ]
  },
  {
   "cell_type": "code",
   "execution_count": null,
   "id": "cathedral-generator",
   "metadata": {},
   "outputs": [],
   "source": [
    "a[c]"
   ]
  },
  {
   "cell_type": "code",
   "execution_count": null,
   "id": "egyptian-identity",
   "metadata": {},
   "outputs": [],
   "source": [
    "s=[2,3]"
   ]
  },
  {
   "cell_type": "code",
   "execution_count": null,
   "id": "canadian-amateur",
   "metadata": {},
   "outputs": [],
   "source": [
    "a=pd.DataFrame(s)\n",
    "a"
   ]
  },
  {
   "cell_type": "code",
   "execution_count": null,
   "id": "transparent-quick",
   "metadata": {},
   "outputs": [],
   "source": [
    "bb=pd.DataFrame(c)\n",
    "bb"
   ]
  },
  {
   "cell_type": "code",
   "execution_count": null,
   "id": "lined-sender",
   "metadata": {},
   "outputs": [],
   "source": [
    "pd.concat(a,bb,axis=0)"
   ]
  },
  {
   "cell_type": "code",
   "execution_count": null,
   "id": "earlier-passenger",
   "metadata": {},
   "outputs": [],
   "source": [
    "c"
   ]
  },
  {
   "cell_type": "code",
   "execution_count": null,
   "id": "printable-level",
   "metadata": {},
   "outputs": [],
   "source": []
  },
  {
   "cell_type": "code",
   "execution_count": null,
   "id": "grand-transaction",
   "metadata": {},
   "outputs": [],
   "source": [
    "c=list(logreg.predict(a))"
   ]
  },
  {
   "cell_type": "code",
   "execution_count": null,
   "id": "experimental-diploma",
   "metadata": {},
   "outputs": [],
   "source": [
    "pd.concat(a,pd.DataFrame(list(logreg.predict(a))))"
   ]
  },
  {
   "cell_type": "code",
   "execution_count": null,
   "id": "soviet-mongolia",
   "metadata": {},
   "outputs": [],
   "source": [
    "\n",
    "a"
   ]
  },
  {
   "cell_type": "code",
   "execution_count": null,
   "id": "authentic-botswana",
   "metadata": {},
   "outputs": [],
   "source": [
    "y_train.value_counts()"
   ]
  },
  {
   "cell_type": "code",
   "execution_count": null,
   "id": "insured-burns",
   "metadata": {},
   "outputs": [],
   "source": [
    "logreg=LogisticRegression()"
   ]
  },
  {
   "cell_type": "code",
   "execution_count": null,
   "id": "baking-constitutional",
   "metadata": {},
   "outputs": [],
   "source": [
    "logreg.fit(x_train,y_train)"
   ]
  },
  {
   "cell_type": "code",
   "execution_count": null,
   "id": "cleared-raising",
   "metadata": {},
   "outputs": [],
   "source": [
    "predict=logreg.predict(x_train)"
   ]
  },
  {
   "cell_type": "code",
   "execution_count": null,
   "id": "cross-intro",
   "metadata": {},
   "outputs": [],
   "source": [
    "len(predict)"
   ]
  },
  {
   "cell_type": "code",
   "execution_count": null,
   "id": "adopted-effect",
   "metadata": {},
   "outputs": [],
   "source": [
    "predict"
   ]
  },
  {
   "cell_type": "code",
   "execution_count": null,
   "id": "administrative-windows",
   "metadata": {},
   "outputs": [],
   "source": [
    "x_train"
   ]
  },
  {
   "cell_type": "code",
   "execution_count": null,
   "id": "peripheral-fifty",
   "metadata": {},
   "outputs": [],
   "source": [
    "y_train.value_counts()"
   ]
  },
  {
   "cell_type": "code",
   "execution_count": null,
   "id": "prescription-reach",
   "metadata": {},
   "outputs": [],
   "source": [
    "train1['target'].value_counts()"
   ]
  },
  {
   "cell_type": "code",
   "execution_count": null,
   "id": "homeless-investigation",
   "metadata": {},
   "outputs": [],
   "source": []
  },
  {
   "cell_type": "code",
   "execution_count": null,
   "id": "destroyed-investor",
   "metadata": {},
   "outputs": [],
   "source": [
    "x_val"
   ]
  },
  {
   "cell_type": "code",
   "execution_count": null,
   "id": "searching-surgeon",
   "metadata": {},
   "outputs": [],
   "source": [
    "#testing score\n",
    "logreg.score(x_val,y_val)"
   ]
  },
  {
   "cell_type": "code",
   "execution_count": null,
   "id": "documentary-dietary",
   "metadata": {},
   "outputs": [],
   "source": [
    "logreg.score(x_train,y_train)#training store"
   ]
  },
  {
   "cell_type": "code",
   "execution_count": null,
   "id": "associate-cruise",
   "metadata": {},
   "outputs": [],
   "source": [
    "from sklearn.metrics import f1_score,accuracy_score,precision_score,recall_score"
   ]
  },
  {
   "cell_type": "code",
   "execution_count": null,
   "id": "personal-tunnel",
   "metadata": {},
   "outputs": [],
   "source": []
  },
  {
   "cell_type": "code",
   "execution_count": null,
   "id": "mounted-bacon",
   "metadata": {},
   "outputs": [],
   "source": [
    "accuracy_score(predict,y_train)"
   ]
  },
  {
   "cell_type": "code",
   "execution_count": null,
   "id": "skilled-credit",
   "metadata": {},
   "outputs": [],
   "source": [
    "precision_score(predict,y_train)"
   ]
  },
  {
   "cell_type": "code",
   "execution_count": null,
   "id": "adjusted-journalist",
   "metadata": {},
   "outputs": [],
   "source": [
    "recall_score(predict,y_train)"
   ]
  },
  {
   "cell_type": "code",
   "execution_count": null,
   "id": "final-creation",
   "metadata": {},
   "outputs": [],
   "source": [
    "f1_score(predict,y_train)"
   ]
  },
  {
   "cell_type": "code",
   "execution_count": null,
   "id": "acoustic-pencil",
   "metadata": {},
   "outputs": [],
   "source": [
    "'''Above the code recall , precision anf f1 score is good but\n",
    "but we have to need who will not be paid on time so this is\n",
    "my bussiness scenario and  so I have to check now specificity  '''"
   ]
  },
  {
   "cell_type": "code",
   "execution_count": null,
   "id": "institutional-found",
   "metadata": {},
   "outputs": [],
   "source": [
    "from sklearn.metrics import confusion_matrix\n",
    "\n",
    "cm1 = confusion_matrix(predict,y_train)\n",
    "print('Confusion Matrix : \\n', cm1)\n",
    "\n",
    "total1=sum(sum(cm1))\n",
    "\n",
    "specificity1 = cm1[1,1]/(cm1[1,0]+cm1[1,1])\n",
    "print('Specificity : ', specificity1)"
   ]
  },
  {
   "cell_type": "code",
   "execution_count": null,
   "id": "operational-reception",
   "metadata": {},
   "outputs": [],
   "source": [
    "s=0\n",
    "for i in predict:\n",
    "    if i==0:\n",
    "        s=s+1\n",
    "        print(i)\n",
    "print(s)"
   ]
  },
  {
   "cell_type": "code",
   "execution_count": null,
   "id": "satellite-hungarian",
   "metadata": {},
   "outputs": [],
   "source": [
    "'''Specificity is also high it's means my model is predict the 94%\n",
    "accurate who will not paid on the time \n",
    "  '''"
   ]
  },
  {
   "cell_type": "code",
   "execution_count": null,
   "id": "foreign-dover",
   "metadata": {},
   "outputs": [],
   "source": []
  },
  {
   "cell_type": "markdown",
   "id": "built-supervision",
   "metadata": {},
   "source": [
    "<h1> Decision Tree <h1>"
   ]
  },
  {
   "cell_type": "code",
   "execution_count": null,
   "id": "latest-spirit",
   "metadata": {},
   "outputs": [],
   "source": [
    "from sklearn.tree import DecisionTreeClassifier\n",
    "from sklearn.model_selection import train_test_split\n",
    "from sklearn.model_selection import train_test_split,GridSearchCV"
   ]
  },
  {
   "cell_type": "code",
   "execution_count": null,
   "id": "motivated-uncertainty",
   "metadata": {},
   "outputs": [],
   "source": [
    "train_o"
   ]
  },
  {
   "cell_type": "code",
   "execution_count": null,
   "id": "tracked-trance",
   "metadata": {},
   "outputs": [],
   "source": [
    "train = pd.get_dummies(train_o)\n",
    "\n",
    "\n"
   ]
  },
  {
   "cell_type": "code",
   "execution_count": null,
   "id": "supported-mount",
   "metadata": {},
   "outputs": [],
   "source": []
  },
  {
   "cell_type": "code",
   "execution_count": null,
   "id": "supported-donor",
   "metadata": {},
   "outputs": [],
   "source": [
    "x_train, x_val, y_train, y_val = train_test_split(train.drop(['target'],axis=1), train['target'], test_size=0.2)\n"
   ]
  },
  {
   "cell_type": "code",
   "execution_count": null,
   "id": "graduate-pipeline",
   "metadata": {},
   "outputs": [],
   "source": [
    "x_train"
   ]
  },
  {
   "cell_type": "code",
   "execution_count": null,
   "id": "western-pursuit",
   "metadata": {},
   "outputs": [],
   "source": [
    "x_val"
   ]
  },
  {
   "cell_type": "code",
   "execution_count": null,
   "id": "shaped-loading",
   "metadata": {},
   "outputs": [],
   "source": [
    "x_id=x_train.copy()\n",
    "x_val_id=x_val.copy()"
   ]
  },
  {
   "cell_type": "code",
   "execution_count": null,
   "id": "stone-wrong",
   "metadata": {},
   "outputs": [],
   "source": [
    "x=x_id.copy()\n",
    "y=x_val.copy()"
   ]
  },
  {
   "cell_type": "code",
   "execution_count": null,
   "id": "instrumental-english",
   "metadata": {},
   "outputs": [],
   "source": [
    "x_train=x_train.drop(['id'],axis=1)\n",
    "x_val=x_val.drop(['id'],axis=1)"
   ]
  },
  {
   "cell_type": "code",
   "execution_count": null,
   "id": "double-lighter",
   "metadata": {},
   "outputs": [],
   "source": [
    "x_val"
   ]
  },
  {
   "cell_type": "code",
   "execution_count": null,
   "id": "harmful-tooth",
   "metadata": {},
   "outputs": [],
   "source": [
    "dt_class = DecisionTreeClassifier()\n",
    "dt_class.fit(x_train,y_train)\n",
    "predict = dt_class.predict(x_val)\n",
    "\n"
   ]
  },
  {
   "cell_type": "code",
   "execution_count": null,
   "id": "lyric-dominican",
   "metadata": {},
   "outputs": [],
   "source": [
    "dt_class.score(x_train,y_train)"
   ]
  },
  {
   "cell_type": "code",
   "execution_count": null,
   "id": "careful-instruction",
   "metadata": {},
   "outputs": [],
   "source": []
  },
  {
   "cell_type": "code",
   "execution_count": null,
   "id": "located-gibraltar",
   "metadata": {},
   "outputs": [],
   "source": [
    "dt_class.score(x_val,y_val)"
   ]
  },
  {
   "cell_type": "code",
   "execution_count": null,
   "id": "conservative-rubber",
   "metadata": {},
   "outputs": [],
   "source": [
    "#Now I have do hyper parameters pruning to check model accurecy improve or not"
   ]
  },
  {
   "cell_type": "code",
   "execution_count": null,
   "id": "unusual-fossil",
   "metadata": {},
   "outputs": [],
   "source": [
    "grid_param = {\n",
    "    'criterion': ['gini', 'entropy'],\n",
    "    'max_depth' : range(2,10,1),\n",
    "    'min_samples_leaf' : range(1,10,1),\n",
    "    'min_samples_split': range(2,10,1),\n",
    "    'splitter' : ['best', 'random']\n",
    "    \n",
    "}"
   ]
  },
  {
   "cell_type": "code",
   "execution_count": null,
   "id": "increasing-artist",
   "metadata": {},
   "outputs": [],
   "source": [
    "grid_search = GridSearchCV(estimator=dt_class,\n",
    "                     param_grid=grid_param,\n",
    "                     cv=5,\n",
    "                    n_jobs =-1)"
   ]
  },
  {
   "cell_type": "code",
   "execution_count": null,
   "id": "catholic-macintosh",
   "metadata": {},
   "outputs": [],
   "source": [
    "grid_search.fit(x_train,y_train)"
   ]
  },
  {
   "cell_type": "code",
   "execution_count": null,
   "id": "billion-holiday",
   "metadata": {},
   "outputs": [],
   "source": [
    "grid_search.best_params_"
   ]
  },
  {
   "cell_type": "code",
   "execution_count": null,
   "id": "surprised-mississippi",
   "metadata": {},
   "outputs": [],
   "source": [
    "clf = DecisionTreeClassifier(criterion = 'entropy', max_depth =6, min_samples_leaf= 2, min_samples_split= 6, splitter ='random')\n",
    "clf.fit(x_train,y_train)"
   ]
  },
  {
   "cell_type": "code",
   "execution_count": null,
   "id": "serial-hampshire",
   "metadata": {},
   "outputs": [],
   "source": [
    "import pickle"
   ]
  },
  {
   "cell_type": "code",
   "execution_count": null,
   "id": "caroline-premium",
   "metadata": {},
   "outputs": [],
   "source": [
    "filename = 'insurence_predict.pkl'\n",
    "pickle.dump(clf, open(filename, 'wb'))"
   ]
  },
  {
   "cell_type": "code",
   "execution_count": null,
   "id": "aboriginal-lecture",
   "metadata": {},
   "outputs": [],
   "source": [
    "filename = 'insurence_predict.pkl'\n",
    "clfpickle = pickle.load(open(filename, 'rb'))"
   ]
  },
  {
   "cell_type": "code",
   "execution_count": null,
   "id": "organizational-expert",
   "metadata": {},
   "outputs": [],
   "source": [
    "x_val.to_csv(\"test_insurence.csv\",index=False)"
   ]
  },
  {
   "cell_type": "code",
   "execution_count": null,
   "id": "vertical-spirituality",
   "metadata": {},
   "outputs": [],
   "source": [
    "s=pd.read_csv('test_insurence.csv')\n",
    "s"
   ]
  },
  {
   "cell_type": "code",
   "execution_count": null,
   "id": "convinced-midwest",
   "metadata": {},
   "outputs": [],
   "source": [
    "s.drop([s.iloc[:,0]],axis=1)"
   ]
  },
  {
   "cell_type": "code",
   "execution_count": null,
   "id": "interpreted-expert",
   "metadata": {},
   "outputs": [],
   "source": [
    "r=0\n",
    "for i in clfpickle.predict(x_val):\n",
    "    if i==0:\n",
    "        r=r+1\n",
    "r\n",
    "    "
   ]
  },
  {
   "cell_type": "code",
   "execution_count": null,
   "id": "choice-diamond",
   "metadata": {},
   "outputs": [],
   "source": [
    "clf.score(x_val,y_val)"
   ]
  },
  {
   "cell_type": "code",
   "execution_count": null,
   "id": "mature-generation",
   "metadata": {},
   "outputs": [],
   "source": [
    "predict=clf.predict(x_val)"
   ]
  },
  {
   "cell_type": "code",
   "execution_count": null,
   "id": "stock-hazard",
   "metadata": {},
   "outputs": [],
   "source": [
    "predict_train=clf.predict(x_train)"
   ]
  },
  {
   "cell_type": "code",
   "execution_count": null,
   "id": "meaningful-credits",
   "metadata": {},
   "outputs": [],
   "source": [
    "predict_train"
   ]
  },
  {
   "cell_type": "code",
   "execution_count": null,
   "id": "treated-region",
   "metadata": {},
   "outputs": [],
   "source": [
    "x_id['predicting_value3']=predict_train"
   ]
  },
  {
   "cell_type": "code",
   "execution_count": null,
   "id": "powered-consumer",
   "metadata": {},
   "outputs": [],
   "source": [
    "x_id"
   ]
  },
  {
   "cell_type": "code",
   "execution_count": null,
   "id": "humanitarian-brazilian",
   "metadata": {},
   "outputs": [],
   "source": [
    "x_id.iloc[np.where(x_id[\"predicting_value3\"]==0)]"
   ]
  },
  {
   "cell_type": "code",
   "execution_count": null,
   "id": "dangerous-bunny",
   "metadata": {},
   "outputs": [],
   "source": [
    "x_id=x_id[x_id['predicting_value']==0]"
   ]
  },
  {
   "cell_type": "code",
   "execution_count": null,
   "id": "dutch-priority",
   "metadata": {},
   "outputs": [],
   "source": [
    "x_id[['id','predicting_value3']]"
   ]
  },
  {
   "cell_type": "code",
   "execution_count": null,
   "id": "religious-alcohol",
   "metadata": {},
   "outputs": [],
   "source": []
  },
  {
   "cell_type": "code",
   "execution_count": null,
   "id": "immediate-process",
   "metadata": {},
   "outputs": [],
   "source": [
    "x_id['id']"
   ]
  },
  {
   "cell_type": "code",
   "execution_count": null,
   "id": "geographic-separation",
   "metadata": {},
   "outputs": [],
   "source": [
    "x_id"
   ]
  },
  {
   "cell_type": "code",
   "execution_count": null,
   "id": "threatened-destiny",
   "metadata": {},
   "outputs": [],
   "source": [
    "predict_train"
   ]
  },
  {
   "cell_type": "code",
   "execution_count": null,
   "id": "objective-serial",
   "metadata": {},
   "outputs": [],
   "source": [
    "test_predict=clf.predict(test)"
   ]
  },
  {
   "cell_type": "code",
   "execution_count": null,
   "id": "invisible-greece",
   "metadata": {},
   "outputs": [],
   "source": [
    "x_train"
   ]
  },
  {
   "cell_type": "code",
   "execution_count": null,
   "id": "indian-aggregate",
   "metadata": {},
   "outputs": [],
   "source": [
    "x_train.columns"
   ]
  },
  {
   "cell_type": "code",
   "execution_count": null,
   "id": "inclusive-camcorder",
   "metadata": {},
   "outputs": [],
   "source": [
    "test.columns"
   ]
  },
  {
   "cell_type": "code",
   "execution_count": null,
   "id": "arabic-solomon",
   "metadata": {},
   "outputs": [],
   "source": [
    "test"
   ]
  },
  {
   "cell_type": "code",
   "execution_count": null,
   "id": "ceramic-leave",
   "metadata": {},
   "outputs": [],
   "source": [
    "y_train.value_counts()"
   ]
  },
  {
   "cell_type": "code",
   "execution_count": null,
   "id": "million-ecuador",
   "metadata": {},
   "outputs": [],
   "source": [
    "s=0\n",
    "for i in predict_train:\n",
    "    if i==0:\n",
    "        s=s+1\n",
    "print(s)\n",
    "        "
   ]
  },
  {
   "cell_type": "code",
   "execution_count": null,
   "id": "incident-robin",
   "metadata": {},
   "outputs": [],
   "source": [
    "accuracy_score(predict_train,y_train)"
   ]
  },
  {
   "cell_type": "code",
   "execution_count": null,
   "id": "existing-lesbian",
   "metadata": {},
   "outputs": [],
   "source": [
    "recall_score(predict_train,y_train)"
   ]
  },
  {
   "cell_type": "code",
   "execution_count": null,
   "id": "dimensional-controversy",
   "metadata": {},
   "outputs": [],
   "source": [
    "f1_score(predict_train,y_train)"
   ]
  },
  {
   "cell_type": "code",
   "execution_count": null,
   "id": "ecological-messenger",
   "metadata": {},
   "outputs": [],
   "source": [
    "precision_score(predict_train,y_train)"
   ]
  },
  {
   "cell_type": "code",
   "execution_count": null,
   "id": "legal-incentive",
   "metadata": {},
   "outputs": [],
   "source": [
    "from sklearn.metrics import confusion_matrix\n",
    "\n",
    "cm1 = confusion_matrix(y_train,predict_train)\n",
    "print('Confusion Matrix : \\n', cm1)\n",
    "\n",
    "total1=sum(sum(cm1))\n",
    "\n",
    "specificity1 = cm1[1,1]/(cm1[1,0]+cm1[1,1])\n",
    "print('Specificity : ', specificity1)"
   ]
  },
  {
   "cell_type": "code",
   "execution_count": null,
   "id": "equipped-vanilla",
   "metadata": {},
   "outputs": [],
   "source": []
  },
  {
   "cell_type": "code",
   "execution_count": null,
   "id": "divine-calvin",
   "metadata": {},
   "outputs": [],
   "source": [
    "from sklearn.ensemble import RandomForestClassifier"
   ]
  },
  {
   "cell_type": "code",
   "execution_count": null,
   "id": "athletic-updating",
   "metadata": {},
   "outputs": [],
   "source": [
    "clfR=RandomForestClassifier(criterion = 'entropy', max_depth =6, min_samples_leaf= 2, min_samples_split= 6)\n",
    "clfR.fit(x_train,y_train)"
   ]
  },
  {
   "cell_type": "code",
   "execution_count": null,
   "id": "pressing-relations",
   "metadata": {},
   "outputs": [],
   "source": [
    "clfR.score(x_train,y_train)"
   ]
  },
  {
   "cell_type": "code",
   "execution_count": null,
   "id": "wound-tooth",
   "metadata": {},
   "outputs": [],
   "source": [
    "predict_train=clfR.predict(x_train)"
   ]
  },
  {
   "cell_type": "code",
   "execution_count": null,
   "id": "continental-springer",
   "metadata": {},
   "outputs": [],
   "source": [
    "s=0\n",
    "for i in predict_train:\n",
    "    if i==0:\n",
    "        s=s+1\n",
    "print(s)\n",
    "        "
   ]
  },
  {
   "cell_type": "code",
   "execution_count": null,
   "id": "moved-cabin",
   "metadata": {},
   "outputs": [],
   "source": [
    "'''both model are giving the same specificity but here select the LogisticRegression Model. beacause cost of LogisticRegression\n",
    "less compere to DecisionTreeClassifier.\n",
    "'''\n"
   ]
  },
  {
   "cell_type": "code",
   "execution_count": null,
   "id": "neural-antibody",
   "metadata": {},
   "outputs": [],
   "source": [
    "grid_param = {\n",
    "    'criterion': ['gini', 'entropy'],\n",
    "    'max_depth' : range(2,10,1),\n",
    "    'min_samples_leaf' : range(1,10,1),\n",
    "    'min_samples_split': range(2,10,1)\n",
    "    \n",
    "}"
   ]
  },
  {
   "cell_type": "code",
   "execution_count": null,
   "id": "collect-baptist",
   "metadata": {},
   "outputs": [],
   "source": [
    "grid_search = GridSearchCV(estimator=clfR,\n",
    "                     param_grid=grid_param,\n",
    "                     cv=5,\n",
    "                    n_jobs =-1)"
   ]
  },
  {
   "cell_type": "code",
   "execution_count": null,
   "id": "above-participation",
   "metadata": {},
   "outputs": [],
   "source": [
    "#grid_search.fit(x_train,y_train)"
   ]
  },
  {
   "cell_type": "code",
   "execution_count": null,
   "id": "running-zimbabwe",
   "metadata": {},
   "outputs": [],
   "source": [
    " "
   ]
  }
 ],
 "metadata": {
  "kernelspec": {
   "display_name": "Python 3",
   "language": "python",
   "name": "python3"
  },
  "language_info": {
   "codemirror_mode": {
    "name": "ipython",
    "version": 3
   },
   "file_extension": ".py",
   "mimetype": "text/x-python",
   "name": "python",
   "nbconvert_exporter": "python",
   "pygments_lexer": "ipython3",
   "version": "3.9.2"
  }
 },
 "nbformat": 4,
 "nbformat_minor": 5
}
